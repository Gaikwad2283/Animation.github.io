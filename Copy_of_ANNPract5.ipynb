{
  "nbformat": 4,
  "nbformat_minor": 0,
  "metadata": {
    "colab": {
      "provenance": [],
      "authorship_tag": "ABX9TyMV6+4JgCwj2zFeFFnS5NfC",
      "include_colab_link": true
    },
    "kernelspec": {
      "name": "python3",
      "display_name": "Python 3"
    },
    "language_info": {
      "name": "python"
    }
  },
  "cells": [
    {
      "cell_type": "markdown",
      "metadata": {
        "id": "view-in-github",
        "colab_type": "text"
      },
      "source": [
        "<a href=\"https://colab.research.google.com/github/Gaikwad2283/Animation.github.io/blob/main/Copy_of_ANNPract5.ipynb\" target=\"_parent\"><img src=\"https://colab.research.google.com/assets/colab-badge.svg\" alt=\"Open In Colab\"/></a>"
      ]
    },
    {
      "cell_type": "markdown",
      "source": [
        "5. Write a python Program for Bidirectional Associative Memory with two pairs of vectors.\n"
      ],
      "metadata": {
        "id": "F-D083HplzPx"
      }
    },
    {
      "cell_type": "code",
      "execution_count": null,
      "metadata": {
        "colab": {
          "base_uri": "https://localhost:8080/"
        },
        "id": "fMTZK_nJV59-",
        "outputId": "ad77b56b-e622-4ef1-b5dd-41ad10eef5b2"
      },
      "outputs": [
        {
          "output_type": "stream",
          "name": "stdout",
          "text": [
            "Input x: [ 1 -1 -1 -1]\n",
            "Output y: [ 1 -1]\n"
          ]
        }
      ],
      "source": [
        "import numpy as np\n",
        "X = np.array([[1, 1, 1, -1], [-1, -1, 1, 1]])\n",
        "Y = np.array([[1, -1], [-1, 1]])\n",
        "W = np.dot(Y.T, X)\n",
        "\n",
        "def bam(x):\n",
        "    return np.sign(np.dot(W, x))\n",
        "\n",
        "x_test = np.array([1, -1, -1, -1])\n",
        "y_test = bam(x_test)\n",
        "\n",
        "\n",
        "print(\"Input x:\", x_test)\n",
        "print(\"Output y:\", y_test)"
      ]
    }
  ]
}